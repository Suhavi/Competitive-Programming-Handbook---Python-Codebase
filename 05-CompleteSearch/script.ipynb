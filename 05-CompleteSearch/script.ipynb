{
 "cells": [
  {
   "cell_type": "markdown",
   "metadata": {},
   "source": [
    "MAKE ALL COMBINATION SETS"
   ]
  },
  {
   "cell_type": "code",
   "execution_count": 19,
   "metadata": {},
   "outputs": [
    {
     "name": "stdout",
     "output_type": "stream",
     "text": [
      "[[], [2], [1], [1, 2], [0], [0, 2], [0, 1], [0, 1, 2]]\n"
     ]
    }
   ],
   "source": [
    "# tree structure\n",
    "# creates all subsets of an array of size n   ---- i.e. for all indices 0 to n-1\n",
    "#  O(2^n) : time complexity\n",
    "\n",
    "def listofsubsets(n):\n",
    "    combinations = []\n",
    "    subset = []\n",
    "    def putin(k):\n",
    "        if k == n:\n",
    "            combinations.append(subset.copy())\n",
    "        else:\n",
    "            putin(k+1)\n",
    "            subset.append(k)\n",
    "            putin(k+1)\n",
    "            subset.pop()\n",
    "    putin(0)\n",
    "    return combinations\n",
    "\n",
    "print(listofsubsets(3))\n",
    "\n"
   ]
  },
  {
   "cell_type": "code",
   "execution_count": 22,
   "metadata": {},
   "outputs": [
    {
     "name": "stdout",
     "output_type": "stream",
     "text": [
      "True\n"
     ]
    }
   ],
   "source": [
    "# find if sum-number can be made from a given array of numbers\n",
    "\n",
    "def subsetsum(arr,subset):\n",
    "    sum = 0\n",
    "    for i in subset:\n",
    "        sum = sum + arr[i]\n",
    "    return sum\n",
    "\n",
    "\n",
    "def decide(arr, x):\n",
    "    l = listofsubsets(len(arr))\n",
    "    for subs in l:\n",
    "        if subsetsum(arr,subs) == x:\n",
    "            return True\n",
    "        \n",
    "    False\n",
    "\n",
    "print(decide([3,5,4],7))\n"
   ]
  },
  {
   "cell_type": "markdown",
   "metadata": {},
   "source": [
    "code - todo \n",
    "\n",
    "- bit solutions, make all n length bit numbers in 0s and 1s--- list of lists and then add acc to 0 and 1\n",
    "- solve chessboard\n",
    "- above is a solution in 2^n\n",
    "- solve in 2^(n/2)"
   ]
  }
 ],
 "metadata": {
  "kernelspec": {
   "display_name": "base",
   "language": "python",
   "name": "python3"
  },
  "language_info": {
   "codemirror_mode": {
    "name": "ipython",
    "version": 3
   },
   "file_extension": ".py",
   "mimetype": "text/x-python",
   "name": "python",
   "nbconvert_exporter": "python",
   "pygments_lexer": "ipython3",
   "version": "3.9.12"
  }
 },
 "nbformat": 4,
 "nbformat_minor": 2
}
