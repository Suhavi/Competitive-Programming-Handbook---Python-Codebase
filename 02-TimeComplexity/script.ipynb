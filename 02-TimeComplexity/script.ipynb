{
 "cells": [
  {
   "attachments": {},
   "cell_type": "markdown",
   "metadata": {},
   "source": [
    "LONGEST SUM SUBARRAY"
   ]
  },
  {
   "cell_type": "code",
   "execution_count": 1,
   "metadata": {},
   "outputs": [],
   "source": [
    "arr = [3,4,-5,-7,2,7,8,-9]"
   ]
  },
  {
   "cell_type": "code",
   "execution_count": 2,
   "metadata": {},
   "outputs": [
    {
     "name": "stdout",
     "output_type": "stream",
     "text": [
      "17\n"
     ]
    }
   ],
   "source": [
    "#O(n^3)\n",
    "\n",
    "maxa = 0\n",
    "for i in range(len(arr)):\n",
    "    for j in range(len(arr)-1):\n",
    "        sum = 0\n",
    "        for k in range(i,j+1):\n",
    "            sum = sum + arr[k]\n",
    "            maxa = max(sum,maxa)\n",
    "\n",
    "print(maxa)\n"
   ]
  },
  {
   "cell_type": "code",
   "execution_count": 5,
   "metadata": {},
   "outputs": [
    {
     "name": "stdout",
     "output_type": "stream",
     "text": [
      "17\n"
     ]
    }
   ],
   "source": [
    "# O(n^2)\n",
    "\n",
    "maxsum = 0\n",
    "\n",
    "for i in range(len(arr)):\n",
    "    sums = 0\n",
    "    for j in range(i, len(arr)):\n",
    "        sums = sums + arr[j]\n",
    "        if sums > maxsum:\n",
    "            maxsum = sums\n",
    "\n",
    "print(maxsum)\n"
   ]
  },
  {
   "cell_type": "markdown",
   "metadata": {},
   "source": [
    "KADANE'S SOLUTION\n",
    "\n",
    "if we just compare the max subsum for a subarray ending at thatindex, we get it."
   ]
  },
  {
   "cell_type": "code",
   "execution_count": 11,
   "metadata": {},
   "outputs": [
    {
     "name": "stdout",
     "output_type": "stream",
     "text": [
      "17\n"
     ]
    }
   ],
   "source": [
    "arr = [3,4,-5,-7,2,7,8,-9]\n",
    "\n",
    "maxsum = 0\n",
    "maxsumata = 0\n",
    "for a in arr:\n",
    "    maxsumata = max(maxsumata+a,a)\n",
    "    maxsum = max(maxsumata,maxsum)\n",
    "\n",
    "print(maxsum)"
   ]
  },
  {
   "cell_type": "code",
   "execution_count": null,
   "metadata": {},
   "outputs": [],
   "source": []
  }
 ],
 "metadata": {
  "kernelspec": {
   "display_name": "Python 3",
   "language": "python",
   "name": "python3"
  },
  "language_info": {
   "codemirror_mode": {
    "name": "ipython",
    "version": 3
   },
   "file_extension": ".py",
   "mimetype": "text/x-python",
   "name": "python",
   "nbconvert_exporter": "python",
   "pygments_lexer": "ipython3",
   "version": "3.9.12"
  },
  "orig_nbformat": 4,
  "vscode": {
   "interpreter": {
    "hash": "949777d72b0d2535278d3dc13498b2535136f6dfe0678499012e853ee9abcab1"
   }
  }
 },
 "nbformat": 4,
 "nbformat_minor": 2
}
