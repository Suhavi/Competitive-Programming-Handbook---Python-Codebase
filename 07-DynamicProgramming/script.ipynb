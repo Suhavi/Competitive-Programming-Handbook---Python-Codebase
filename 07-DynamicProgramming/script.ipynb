{
 "cells": [
  {
   "cell_type": "code",
   "execution_count": 19,
   "metadata": {},
   "outputs": [],
   "source": [
    "# COIN PROBLEM\n",
    "def coin_min(target, arr):\n",
    "    min_so_far = float('inf')\n",
    "    if target == 0:\n",
    "        return 0\n",
    "    if target <0:\n",
    "        return float('inf')\n",
    "    for num in arr:\n",
    "        min_so_far = min(min_so_far, coin_min(target-num, arr)+1)\n",
    "        \n",
    "        \n",
    "    return min_so_far"
   ]
  },
  {
   "cell_type": "code",
   "execution_count": 20,
   "metadata": {},
   "outputs": [
    {
     "data": {
      "text/plain": [
       "3"
      ]
     },
     "execution_count": 20,
     "metadata": {},
     "output_type": "execute_result"
    }
   ],
   "source": [
    "coin_min(10,[3,4])"
   ]
  },
  {
   "cell_type": "code",
   "execution_count": 21,
   "metadata": {},
   "outputs": [],
   "source": [
    "# COIN PROBLEM MEMOIZED\n",
    "\n",
    "def coin_min_memo(target, arr):\n",
    "    memo = {}\n",
    "    min_so_far = float('inf')\n",
    "    if target <0:\n",
    "        return float('inf')\n",
    "    if target ==0:\n",
    "        return 0\n",
    "    if target in memo:\n",
    "        return memo[target]\n",
    "    \n",
    "    for coin in arr:\n",
    "        min_so_far = min(min_so_far, coin_min_memo(target-coin,arr)+1)\n",
    "\n",
    "    memo[target] = min_so_far\n",
    "    return memo[target]\n"
   ]
  },
  {
   "cell_type": "code",
   "execution_count": 22,
   "metadata": {},
   "outputs": [
    {
     "data": {
      "text/plain": [
       "3"
      ]
     },
     "execution_count": 22,
     "metadata": {},
     "output_type": "execute_result"
    }
   ],
   "source": [
    "coin_min_memo(10,[3,4])"
   ]
  },
  {
   "cell_type": "code",
   "execution_count": 50,
   "metadata": {},
   "outputs": [],
   "source": [
    "# bottom up tabulation\n",
    "\n",
    "def coins(target, arr):\n",
    "    table = [None] * (target+1)\n",
    "    table[0] = 0\n",
    "    if target < 0:\n",
    "        return None\n",
    "    for i in range(len(table)):\n",
    "        if table[i] == None:\n",
    "            continue\n",
    "        for coin in arr:\n",
    "            if i+coin >= len(table):\n",
    "                continue\n",
    "            elif table[i+coin] == None:\n",
    "                table[i+coin] = table[i] + 1\n",
    "            else:\n",
    "                table[i+coin] = min(table[i+coin], table[i]+1)\n",
    "            \n",
    "    return table[target]"
   ]
  },
  {
   "cell_type": "code",
   "execution_count": 51,
   "metadata": {},
   "outputs": [
    {
     "name": "stdout",
     "output_type": "stream",
     "text": [
      "3\n"
     ]
    }
   ],
   "source": [
    "print(coins(10,[3,4]))"
   ]
  },
  {
   "cell_type": "code",
   "execution_count": 59,
   "metadata": {},
   "outputs": [],
   "source": [
    "# top-down tabulation\n",
    "\n",
    "def topdown(target, arr):\n",
    "    value = [float('inf')] * (target+1)\n",
    "    value[0] = 0\n",
    "    for i in range(target+1):\n",
    "        for c in arr:\n",
    "            if i-c>=0:\n",
    "                value[i] = min(value[i], value[i-c]+1)"
   ]
  },
  {
   "cell_type": "code",
   "execution_count": 60,
   "metadata": {},
   "outputs": [
    {
     "name": "stdout",
     "output_type": "stream",
     "text": [
      "None\n"
     ]
    }
   ],
   "source": [
    "print(topdown(10,[4,3]))"
   ]
  },
  {
   "cell_type": "code",
   "execution_count": 65,
   "metadata": {},
   "outputs": [],
   "source": [
    "# LONGEST INCREASING SUBSEQUENCE\n",
    "\n",
    "#len of the max subsequence\n",
    "\n",
    "def LIS(arr):\n",
    "    length = [1]*(len(arr))\n",
    "    for k in range(len(length)):\n",
    "        for i in range(k):\n",
    "            if arr[i] < arr[k]:\n",
    "                length[k] = max(length[i]+1, length[k])\n",
    "    return max(length)"
   ]
  },
  {
   "cell_type": "code",
   "execution_count": 66,
   "metadata": {},
   "outputs": [
    {
     "data": {
      "text/plain": [
       "4"
      ]
     },
     "execution_count": 66,
     "metadata": {},
     "output_type": "execute_result"
    }
   ],
   "source": [
    "LIS([6,2,5,1,7,4,8,3])"
   ]
  },
  {
   "cell_type": "code",
   "execution_count": 68,
   "metadata": {},
   "outputs": [],
   "source": [
    "# PATHS IN A GRID FOR MAX SUM\n",
    "\n",
    "def paths(arr,n):\n",
    "    table = [[0]*(n+1) for _ in range(n+1)]\n",
    "\n",
    "    for y in range(n+1):\n",
    "        for x in range(n+1):\n",
    "            table[y][x] = max(table[y][x-1],table[y-1][x]) + arr[y][x]\n",
    "\n",
    "    return table[n][n]"
   ]
  }
 ],
 "metadata": {
  "kernelspec": {
   "display_name": "base",
   "language": "python",
   "name": "python3"
  },
  "language_info": {
   "codemirror_mode": {
    "name": "ipython",
    "version": 3
   },
   "file_extension": ".py",
   "mimetype": "text/x-python",
   "name": "python",
   "nbconvert_exporter": "python",
   "pygments_lexer": "ipython3",
   "version": "3.9.12"
  }
 },
 "nbformat": 4,
 "nbformat_minor": 2
}
