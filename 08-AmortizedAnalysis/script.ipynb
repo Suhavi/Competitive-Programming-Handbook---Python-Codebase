{
 "cells": [
  {
   "cell_type": "markdown",
   "metadata": {},
   "source": [
    "TWO POINTER METHOS"
   ]
  },
  {
   "cell_type": "code",
   "execution_count": 18,
   "metadata": {},
   "outputs": [
    {
     "name": "stdout",
     "output_type": "stream",
     "text": [
      "[6, 9]\n",
      "[3, 6, 9]\n",
      "None\n",
      "[-3, 6, 9]\n"
     ]
    }
   ],
   "source": [
    "# subarray sum\n",
    "\n",
    "def subarraysum(arr,target):\n",
    "    left = 0\n",
    "    right = 1\n",
    "    while left < len(arr):\n",
    "        summit = sum(arr[left:right])\n",
    "        if summit < target:\n",
    "            if right <= len(arr):\n",
    "                right = right+1\n",
    "            else:\n",
    "                left = left+1\n",
    "        if summit > target:\n",
    "            left = left + 1\n",
    "        if summit == target:\n",
    "            return arr[left:right]\n",
    "    return None\n",
    "        \n",
    "print(subarraysum([1,2,5,6,9], 15))\n",
    "print(subarraysum([1,2,3,6,9], 18))\n",
    "print(subarraysum([1,2,-3,6,9], 18))\n",
    "print(subarraysum([1,-2,-3,6,9], 12))"
   ]
  },
  {
   "cell_type": "code",
   "execution_count": 4,
   "metadata": {},
   "outputs": [
    {
     "name": "stdout",
     "output_type": "stream",
     "text": [
      "(2, 7)\n",
      "(1, 5)\n",
      "None\n"
     ]
    }
   ],
   "source": [
    "# 2 sum\n",
    "\n",
    "def twosum(arr,target):\n",
    "    arr.sort()\n",
    "    left = 0\n",
    "    right = len(arr)-1\n",
    "    while left != right:\n",
    "        if arr[left] + arr[right] < target:\n",
    "            left = left + 1\n",
    "        elif arr[left] + arr[right] > target:\n",
    "            right = right -1\n",
    "        else:\n",
    "            return (arr[left], arr[right])\n",
    "    return None\n",
    "\n",
    "\n",
    "print(twosum([3,4,7,9,1,2],9))\n",
    "print(twosum([10,12,13,1,5,14,15,17],6))\n",
    "print(twosum([10,12,13,1,7,14,15,17],6))"
   ]
  },
  {
   "cell_type": "code",
   "execution_count": 13,
   "metadata": {},
   "outputs": [],
   "source": [
    "# 3 sum\n",
    "\n",
    "def threesum(arr, target):\n",
    "    for i in range(len(arr)-1):  # minus 1 is important\n",
    "        summit = target - arr[i]\n",
    "        left = i+1\n",
    "        right = len(arr) - 1\n",
    "        while left != right:\n",
    "            if arr[left] + arr[right] > summit:\n",
    "                right = right - 1\n",
    "            elif arr[left] + arr[right] < summit:\n",
    "                left = left+1\n",
    "            else:\n",
    "                return arr[i],arr[left], arr[right]\n",
    "\n",
    "    return None"
   ]
  },
  {
   "cell_type": "code",
   "execution_count": 14,
   "metadata": {},
   "outputs": [
    {
     "name": "stdout",
     "output_type": "stream",
     "text": [
      "(3, 4, 2)\n",
      "(1, 2, 3)\n",
      "None\n",
      "None\n"
     ]
    }
   ],
   "source": [
    "print(threesum([3,4,7,9,1,2],9))\n",
    "print(threesum([10,12,13,1,2,3,14,15,17],6))\n",
    "print(threesum([3,10,17,19,11,2],9))\n",
    "print(threesum([10,12,13,1,7,14,15,17],6))"
   ]
  },
  {
   "cell_type": "code",
   "execution_count": 47,
   "metadata": {},
   "outputs": [
    {
     "name": "stdout",
     "output_type": "stream",
     "text": [
      "[-1, -1, 0, 0, 2, 2, 0, 1]\n"
     ]
    }
   ],
   "source": [
    "# nearest smaller integers (preceding the integers)\n",
    "\n",
    "\n",
    "def smallerint(arr):\n",
    "    stack = []\n",
    "    ans = [-1]*len(arr)\n",
    "\n",
    "    for i in range(len(arr)):\n",
    "        if len(stack) == 0:\n",
    "            stack.append(arr[i])\n",
    "            continue\n",
    "\n",
    "        while len(stack) > 0 and (stack[-1] >= arr[i]):\n",
    "            stack.pop()\n",
    "        if len(stack) > 0:\n",
    "            ans[i] = stack[-1]\n",
    "        \n",
    "        stack.append(arr[i])\n",
    "\n",
    "    return ans\n",
    "\n",
    "print(smallerint([3,0,4,2,5,3,1,2]))"
   ]
  }
 ],
 "metadata": {
  "kernelspec": {
   "display_name": "base",
   "language": "python",
   "name": "python3"
  },
  "language_info": {
   "codemirror_mode": {
    "name": "ipython",
    "version": 3
   },
   "file_extension": ".py",
   "mimetype": "text/x-python",
   "name": "python",
   "nbconvert_exporter": "python",
   "pygments_lexer": "ipython3",
   "version": "3.9.12"
  }
 },
 "nbformat": 4,
 "nbformat_minor": 2
}
