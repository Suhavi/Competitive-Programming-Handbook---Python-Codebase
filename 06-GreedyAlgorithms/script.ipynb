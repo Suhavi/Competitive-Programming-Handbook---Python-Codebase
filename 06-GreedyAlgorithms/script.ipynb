{
 "cells": [
  {
   "cell_type": "markdown",
   "metadata": {},
   "source": [
    "COIN PROBLEM\n",
    "\n",
    "- least amount of coins required to make a sum\n",
    "- european coins"
   ]
  },
  {
   "cell_type": "code",
   "execution_count": 16,
   "metadata": {},
   "outputs": [
    {
     "name": "stdout",
     "output_type": "stream",
     "text": [
      "{1: 0, 2: 0, 5: 0, 10: 0, 20: 1, 50: 0, 100: 1, 200: 2}\n"
     ]
    }
   ],
   "source": [
    "def coinsum(target,arr):\n",
    "    arr.sort()\n",
    "    pointer = len(arr)-1\n",
    "    ans = {x:0 for x in arr}\n",
    "    while target !=0:\n",
    "        while arr[pointer] > target:\n",
    "            pointer = pointer-1\n",
    "        target = target - arr[pointer]\n",
    "        ans[arr[pointer]] +=1\n",
    "        \n",
    "    return ans\n",
    "    \n",
    "print(coinsum(520,[1, 2, 5, 10, 20, 50, 100, 200]))"
   ]
  },
  {
   "cell_type": "code",
   "execution_count": 11,
   "metadata": {},
   "outputs": [
    {
     "name": "stdout",
     "output_type": "stream",
     "text": [
      "True\n",
      "True\n"
     ]
    }
   ],
   "source": [
    "#AUTHOR'S SUPPLEMENTARY MATERIAL\n",
    "# if the question were, if the sum is possible ? then cansum algorithm can be used - recursive\n",
    "\n",
    "memo = {}\n",
    "def coincansum(target,arr):\n",
    "    if target == 0:\n",
    "        return True\n",
    "    if target < 0:\n",
    "        return False\n",
    "    # if target in memo:\n",
    "    #     return memo[target]\n",
    "    else:\n",
    "        for coin in arr:\n",
    "            remainder = target - coin\n",
    "            if coincansum(remainder,arr):\n",
    "                return True\n",
    "                \n",
    "    return memo[target]\n",
    "\n",
    "print(coincansum(520,[1, 2, 5, 10, 20, 50, 100, 200]))\n",
    "print(coincansum(30,[5,2,10]))"
   ]
  },
  {
   "cell_type": "markdown",
   "metadata": {},
   "source": [
    "SCHEDULING"
   ]
  },
  {
   "cell_type": "code",
   "execution_count": 30,
   "metadata": {},
   "outputs": [
    {
     "name": "stdout",
     "output_type": "stream",
     "text": [
      "2\n"
     ]
    }
   ],
   "source": [
    "events = [(\"A\",1,3), (\"B\",2,5), (\"C\",3,9), (\"D\",6,8)]\n",
    "\n",
    "def schedule(arr):\n",
    "    arr.sort(key = lambda x : x[2])  # sorted by end times already\n",
    "    response = [events[0]]\n",
    "    lasttime = 0\n",
    "    for a in arr[1:]:\n",
    "        if response[-1][2]< a[1]:   # end time of the event before is less than the start time of the event after\n",
    "            response.append(a)\n",
    "\n",
    "    return len(response)\n",
    "\n",
    "print(schedule(events))\n"
   ]
  },
  {
   "cell_type": "code",
   "execution_count": 1,
   "metadata": {},
   "outputs": [
    {
     "data": {
      "text/plain": [
       "1"
      ]
     },
     "execution_count": 1,
     "metadata": {},
     "output_type": "execute_result"
    }
   ],
   "source": []
  },
  {
   "cell_type": "code",
   "execution_count": null,
   "metadata": {},
   "outputs": [],
   "source": []
  }
 ],
 "metadata": {
  "kernelspec": {
   "display_name": "base",
   "language": "python",
   "name": "python3"
  },
  "language_info": {
   "codemirror_mode": {
    "name": "ipython",
    "version": 3
   },
   "file_extension": ".py",
   "mimetype": "text/x-python",
   "name": "python",
   "nbconvert_exporter": "python",
   "pygments_lexer": "ipython3",
   "version": "3.9.12"
  }
 },
 "nbformat": 4,
 "nbformat_minor": 2
}
