{
 "cells": [
  {
   "cell_type": "markdown",
   "metadata": {},
   "source": [
    "- Everything in Python is an object\n",
    "- dynamic nature of the language can be attributed and further realised from the above statement\n",
    "- python assigns a container to any object or variable but does not tie it to a type, variable name accesses the container\n",
    "- the type is inferred only at runtime\n",
    "- for time complexities of different data structures - https://wiki.python.org/moin/TimeComplexity "
   ]
  },
  {
   "cell_type": "markdown",
   "metadata": {},
   "source": [
    "LISTS"
   ]
  },
  {
   "cell_type": "code",
   "execution_count": 48,
   "metadata": {},
   "outputs": [
    {
     "name": "stdout",
     "output_type": "stream",
     "text": [
      "[1, 2, 3, 4]\n"
     ]
    }
   ],
   "source": [
    "arr = [1,2,3]\n",
    "#append\n",
    "arr.append(4)  \n",
    "print(arr)"
   ]
  },
  {
   "cell_type": "code",
   "execution_count": 49,
   "metadata": {},
   "outputs": [
    {
     "name": "stdout",
     "output_type": "stream",
     "text": [
      "[1, 2, 3]\n",
      "[2, 3]\n"
     ]
    }
   ],
   "source": [
    "# pop last\n",
    "arr.pop()\n",
    "print(arr)\n",
    "#pop intermeiate\n",
    "arr.pop(0)\n",
    "print(arr)"
   ]
  },
  {
   "cell_type": "code",
   "execution_count": 50,
   "metadata": {},
   "outputs": [
    {
     "name": "stdout",
     "output_type": "stream",
     "text": [
      "[5, 2, 3]\n"
     ]
    }
   ],
   "source": [
    "#insert at a point\n",
    "arr.insert(0,5)\n",
    "print(arr)"
   ]
  },
  {
   "cell_type": "code",
   "execution_count": 51,
   "metadata": {},
   "outputs": [
    {
     "name": "stdout",
     "output_type": "stream",
     "text": [
      "3\n",
      "[5, 2, 9]\n"
     ]
    }
   ],
   "source": [
    "#get item\n",
    "print(arr[2])\n",
    "#set item -- mutability\n",
    "arr[2]=9\n",
    "print(arr)"
   ]
  },
  {
   "cell_type": "code",
   "execution_count": 52,
   "metadata": {},
   "outputs": [
    {
     "name": "stdout",
     "output_type": "stream",
     "text": [
      "[5, 2, 9, 10, 4, 7, 8, 10]\n"
     ]
    }
   ],
   "source": [
    "#extend\n",
    "arr.extend([10,4,7,8,10])\n",
    "print(arr)"
   ]
  },
  {
   "cell_type": "code",
   "execution_count": 53,
   "metadata": {},
   "outputs": [
    {
     "name": "stdout",
     "output_type": "stream",
     "text": [
      "[5, 2, 9, 10, 4, 7, 8, 10]\n",
      "[5, 2, 7, 8, 10]\n"
     ]
    }
   ],
   "source": [
    "print(arr)\n",
    "#delete\n",
    "del arr[2:5]\n",
    "print(arr)"
   ]
  },
  {
   "cell_type": "code",
   "execution_count": 54,
   "metadata": {},
   "outputs": [
    {
     "name": "stdout",
     "output_type": "stream",
     "text": [
      "[5, 2, 7, 8, 10, 6, 7, 8]\n",
      "[5, 7, 8, 10, 6, 7, 8]\n"
     ]
    }
   ],
   "source": [
    "arr.extend([6,7,8])\n",
    "print(arr)\n",
    "# delete specidif\n",
    "del arr[1:3:6]\n",
    "print(arr)"
   ]
  },
  {
   "cell_type": "code",
   "execution_count": 55,
   "metadata": {},
   "outputs": [
    {
     "name": "stdout",
     "output_type": "stream",
     "text": [
      "[7, 8, 10, 6, 7, 8]\n",
      "[8, 7, 6, 10, 8, 7]\n"
     ]
    }
   ],
   "source": [
    "#delete first instance of an element\n",
    "arr.remove(5)\n",
    "print(arr)\n",
    "\n",
    "#reverse the list\n",
    "arr.reverse()\n",
    "print(arr)"
   ]
  },
  {
   "cell_type": "markdown",
   "metadata": {},
   "source": [
    "SETS"
   ]
  },
  {
   "cell_type": "code",
   "execution_count": 69,
   "metadata": {},
   "outputs": [
    {
     "name": "stdout",
     "output_type": "stream",
     "text": [
      "{5}\n",
      "{3, 4, 5}\n"
     ]
    }
   ],
   "source": [
    "#declarations\n",
    "\n",
    "s = set()\n",
    "s.add(5)\n",
    "print(s)\n",
    "\n",
    "a = set([3,4,5])\n",
    "print(a)"
   ]
  },
  {
   "cell_type": "code",
   "execution_count": 70,
   "metadata": {},
   "outputs": [
    {
     "name": "stdout",
     "output_type": "stream",
     "text": [
      "1\n",
      "{3, 4, 5}\n",
      "{5}\n",
      "set()\n",
      "{3, 4}\n",
      "True\n",
      "{10, 5}\n",
      "{5}\n",
      "True\n"
     ]
    }
   ],
   "source": [
    "print(len(s))\n",
    "print(s.union(a))\n",
    "print(s.intersection(a))\n",
    "print(s-a)\n",
    "print(a-s)\n",
    "print(s.issubset(a))\n",
    "\n",
    "# O(1) Set Methods\n",
    "# addition\n",
    "s.add(10)\n",
    "print(s)\n",
    "#remove\n",
    "s.remove(10)\n",
    "print(s)\n",
    "# find ele\n",
    "print(5 in s)\n",
    "\n",
    "\n"
   ]
  },
  {
   "cell_type": "markdown",
   "metadata": {},
   "source": [
    "MAPS/DICTIONARIES"
   ]
  },
  {
   "cell_type": "code",
   "execution_count": 71,
   "metadata": {},
   "outputs": [
    {
     "name": "stdout",
     "output_type": "stream",
     "text": [
      "dict_items([('a', 1), ('b', 2), ('c', 3), ('d', 4)])\n"
     ]
    }
   ],
   "source": [
    "diction = {\n",
    "  \"a\":1,\n",
    "  \"b\":2,\n",
    "  \"c\":3,\n",
    "  \"d\":4\n",
    "}\n",
    "\n",
    "x = diction.items()\n",
    "print(x)"
   ]
  },
  {
   "cell_type": "code",
   "execution_count": 75,
   "metadata": {},
   "outputs": [
    {
     "name": "stdout",
     "output_type": "stream",
     "text": [
      "9\n",
      "9\n",
      "{'a': 1, 'b': 2, 'c': 9, 'd': 4}\n",
      "{'a': 1, 'b': 2, 'c': 9}\n",
      "{'b': 2, 'c': 9}\n"
     ]
    }
   ],
   "source": [
    "# fetch value\n",
    "print(diction.get(\"c\"))\n",
    "print(diction[\"c\"])\n",
    "#reassign value\n",
    "diction[\"c\"] = 9\n",
    "print(diction)\n",
    "\n",
    "#removes last added key\n",
    "diction.popitem()\n",
    "print(diction)\n",
    "#removes mentioned key\n",
    "diction.pop(\"a\")\n",
    "print(diction)"
   ]
  },
  {
   "cell_type": "code",
   "execution_count": 78,
   "metadata": {},
   "outputs": [
    {
     "name": "stdout",
     "output_type": "stream",
     "text": [
      "k,v b 2\n",
      "k,v c 9\n",
      "k b\n",
      "k c\n",
      "v 2\n",
      "v 9\n"
     ]
    }
   ],
   "source": [
    "# useful\n",
    "\n",
    "for k,v in diction.items():\n",
    "    print(\"k,v\", k,v)\n",
    "\n",
    "for k in diction.keys():\n",
    "    print(\"k\",k)\n",
    "\n",
    "for v in diction.values():\n",
    "    print(\"v\",v)"
   ]
  },
  {
   "cell_type": "markdown",
   "metadata": {},
   "source": [
    "TUPLES"
   ]
  },
  {
   "cell_type": "code",
   "execution_count": 83,
   "metadata": {},
   "outputs": [
    {
     "name": "stdout",
     "output_type": "stream",
     "text": [
      "True\n",
      "2\n",
      "4\n"
     ]
    }
   ],
   "source": [
    "tup = tuple()\n",
    "tup2 = (4,5,6,7,9,5)\n",
    "print(5 in tup2)\n",
    "print(tup2.count(5))\n",
    "print(tup2.index(9))"
   ]
  },
  {
   "cell_type": "markdown",
   "metadata": {},
   "source": [
    "BIT OPERATORS AND FUNCTIONS (TO-DO)"
   ]
  },
  {
   "cell_type": "markdown",
   "metadata": {},
   "source": [
    "DEQUES"
   ]
  },
  {
   "cell_type": "code",
   "execution_count": 87,
   "metadata": {},
   "outputs": [
    {
     "name": "stdout",
     "output_type": "stream",
     "text": [
      "deque([4, 6, 7, 2, 3, 4, 6, 5])\n",
      "deque([0, 4, 6, 7, 2, 3, 4, 6, 5])\n",
      "deque([0, 4, 6, 7, 2, 3, 4, 6])\n",
      "deque([4, 6, 7, 2, 3, 4, 6])\n"
     ]
    }
   ],
   "source": [
    "# a list cant be used as a deque because left pop and append take O(n) time but deques take O(1) time\n",
    "\n",
    "from collections import deque\n",
    "\n",
    "deq = deque([4,6,7,2,3,4,6])\n",
    "\n",
    "#appendright\n",
    "deq.append(5)\n",
    "print(deq)\n",
    "\n",
    "#appendleft\n",
    "deq.appendleft(0)\n",
    "print(deq)\n",
    "\n",
    "#popright\n",
    "deq.pop()\n",
    "print(deq)\n",
    "\n",
    "#popleft\n",
    "deq.popleft()\n",
    "print(deq)"
   ]
  },
  {
   "cell_type": "markdown",
   "metadata": {},
   "source": [
    "STACK"
   ]
  },
  {
   "cell_type": "code",
   "execution_count": 88,
   "metadata": {},
   "outputs": [
    {
     "name": "stdout",
     "output_type": "stream",
     "text": [
      "[3, 4, 5, 7, 10]\n",
      "[3, 4, 5, 7]\n"
     ]
    }
   ],
   "source": [
    "# a list can double as a stack because right-end operations take .pop() and .append() take O(1) time\n",
    "# but list can become too slow with size and hece with multiple append calls some bcan be too slow\n",
    "\n",
    "\n",
    "stack = [3,4,5,7]\n",
    "# push\n",
    "stack.append(10)\n",
    "print(stack)\n",
    "# pop\n",
    "stack.pop()\n",
    "print(stack)\n",
    "\n",
    "#deque can also be used"
   ]
  },
  {
   "cell_type": "markdown",
   "metadata": {},
   "source": [
    "QUEUE"
   ]
  },
  {
   "cell_type": "code",
   "execution_count": 99,
   "metadata": {},
   "outputs": [
    {
     "name": "stdout",
     "output_type": "stream",
     "text": [
      "<queue.Queue object at 0x7fe2f28903a0>\n",
      "1\n",
      "3\n"
     ]
    }
   ],
   "source": [
    "# one way is to use a deque - shown above\n",
    "\n",
    "#using queue module\n",
    "\n",
    "from queue import Queue\n",
    "q = Queue(maxsize=5)\n",
    "q.put(1)\n",
    "print(q)\n",
    "q.put(3)\n",
    "q.put(4)\n",
    "q.put(7)\n",
    "print(q.get())  ### gets the first in line/queue to get out\n",
    "print(q.get())  ## gets the next one then\n"
   ]
  },
  {
   "cell_type": "markdown",
   "metadata": {},
   "source": [
    "EXTRA NOTES"
   ]
  },
  {
   "cell_type": "markdown",
   "metadata": {},
   "source": [
    "\n",
    "- SHORTCIRCUTING IN PYTHON\n",
    "<BR> Using True and False in If conditions"
   ]
  },
  {
   "cell_type": "code",
   "execution_count": 89,
   "metadata": {},
   "outputs": [
    {
     "name": "stdout",
     "output_type": "stream",
     "text": [
      "0\n",
      "1\n",
      "0\n",
      "0\n"
     ]
    }
   ],
   "source": [
    "print(0 and 1)  # breaks at left\n",
    "print(1 and 1)  \n",
    "print(1 and 0)  \n",
    "print(0 and 0)  # breaks at left"
   ]
  },
  {
   "cell_type": "code",
   "execution_count": 90,
   "metadata": {},
   "outputs": [
    {
     "name": "stdout",
     "output_type": "stream",
     "text": [
      "0\n",
      "1\n",
      "1\n",
      "1\n"
     ]
    }
   ],
   "source": [
    "print(0 or 0)\n",
    "print(0 or 1)\n",
    "print(1 or 0) #breaks at left\n",
    "print(1 or 1) #breaks at left"
   ]
  },
  {
   "cell_type": "markdown",
   "metadata": {},
   "source": [
    "- CREATING COPIES OF OBJECTS"
   ]
  },
  {
   "cell_type": "code",
   "execution_count": 91,
   "metadata": {},
   "outputs": [
    {
     "name": "stdout",
     "output_type": "stream",
     "text": [
      "140612589459760\n",
      "a 2 140612589459792\n",
      "b 2 140612589459792\n",
      "140612589459792\n",
      "140612589459792\n",
      "c 2 140612589459792\n",
      "5 2\n",
      "9 5\n",
      "d 9 140612589460016\n"
     ]
    }
   ],
   "source": [
    "a = 1\n",
    "print(id(a))\n",
    "a += 1\n",
    "print(\"a\",a, id(a))\n",
    "b = a\n",
    "print(\"b\",b, id(b))\n",
    "b = 2\n",
    "print(id(b))\n",
    "print(id(2))\n",
    "\n",
    "import copy\n",
    "c = copy.copy(a)  #shallowcopy\n",
    "print(\"c\", c, id(c))\n",
    "c = c +3\n",
    "print(c,a)  # changing c didnt change a\n",
    "a = a +7\n",
    "print(a,c)\n",
    "\n",
    "d = copy.deepcopy(a)\n",
    "print(\"d\", d, id(d))\n",
    "\n",
    "\n",
    "# hence equal to (=) doesn't assign value of RHS to LHS ut makes LHS point to RHS's container itself"
   ]
  }
 ],
 "metadata": {
  "kernelspec": {
   "display_name": "base",
   "language": "python",
   "name": "python3"
  },
  "language_info": {
   "codemirror_mode": {
    "name": "ipython",
    "version": 3
   },
   "file_extension": ".py",
   "mimetype": "text/x-python",
   "name": "python",
   "nbconvert_exporter": "python",
   "pygments_lexer": "ipython3",
   "version": "3.9.12"
  }
 },
 "nbformat": 4,
 "nbformat_minor": 2
}
