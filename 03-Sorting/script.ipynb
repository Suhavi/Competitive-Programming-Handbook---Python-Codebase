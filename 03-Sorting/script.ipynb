{
 "cells": [
  {
   "attachments": {},
   "cell_type": "markdown",
   "metadata": {},
   "source": [
    "BUBBLE SORT"
   ]
  },
  {
   "cell_type": "code",
   "execution_count": 24,
   "metadata": {
    "slideshow": {
     "slide_type": "notes"
    },
    "tags": [
     "bubblesort"
    ]
   },
   "outputs": [
    {
     "data": {
      "text/plain": [
       "[1, 2, 3, 5, 6, 9]"
      ]
     },
     "execution_count": 24,
     "metadata": {},
     "output_type": "execute_result"
    }
   ],
   "source": [
    "def bubblesort(arr):\n",
    "    for i in range(len(arr)):\n",
    "        for j in range(len(arr)-1):\n",
    "            if arr[j]>arr[j+1]:\n",
    "                arr[j+1],arr[j]=arr[j],arr[j+1]\n",
    "    return arr\n",
    "\n",
    "arr = [9,6,2,3,1,5]\n",
    "bubblesort(arr)"
   ]
  },
  {
   "attachments": {},
   "cell_type": "markdown",
   "metadata": {},
   "source": [
    "COUNTING SORT"
   ]
  },
  {
   "cell_type": "code",
   "execution_count": 28,
   "metadata": {},
   "outputs": [
    {
     "name": "stdout",
     "output_type": "stream",
     "text": [
      "counts array [1, 3, 3, 2, 1, 0, 1, 1, 0, 3]\n",
      "[0, 1, 1, 1, 2, 2, 2, 3, 3, 4, 6, 7, 9, 9, 9]\n"
     ]
    }
   ],
   "source": [
    "# O(n)\n",
    "\n",
    "def counting_sort(arr):\n",
    "    size = max(arr)  #O(n)\n",
    "    counts = [0]*(size+1)\n",
    "\n",
    "    for a in arr:\n",
    "        counts[a] +=1\n",
    "    print(\"counts array\", counts)\n",
    "    \n",
    "    sorted = []\n",
    "    for i in range(len(counts)):\n",
    "        sorted.extend([i]*counts[i])\n",
    "\n",
    "    return sorted\n",
    "\n",
    "arr = [9,6,7,9,4,1,2,1,1,3,2,3,2,9,0]\n",
    "print(counting_sort(arr))\n",
    "\n"
   ]
  },
  {
   "attachments": {},
   "cell_type": "markdown",
   "metadata": {},
   "source": [
    "PYTHON INBUILT SORT"
   ]
  },
  {
   "attachments": {},
   "cell_type": "markdown",
   "metadata": {},
   "source": [
    "1. .sort()\n",
    "- Syntax: arr.sort(reverse = True|False, key = key)\n",
    "- O(logn)\n",
    "- sorts in place\n",
    "- returns None"
   ]
  },
  {
   "cell_type": "code",
   "execution_count": 4,
   "metadata": {},
   "outputs": [
    {
     "name": "stdout",
     "output_type": "stream",
     "text": [
      "[1, 2, 2, 2, 3, 3, 4, 5, 6]\n",
      "[6, 5, 4, 3, 3, 2, 2, 2, 1]\n",
      "None\n"
     ]
    }
   ],
   "source": [
    "arr = [5,4,6,2,1,2,3,2,3]\n",
    "arr1 = [5,4,6,2,1,2,3,2,3]\n",
    "\n",
    "arr.sort()\n",
    "print(arr)\n",
    "\n",
    "arr1.sort(reverse = True)\n",
    "print(arr1)\n",
    "\n",
    "print(arr1.sort())"
   ]
  },
  {
   "attachments": {},
   "cell_type": "markdown",
   "metadata": {},
   "source": [
    "2. sorted()\n",
    "\n",
    "- Syntax: sorted(iterable,reverse = True|False, key = key)\n",
    "- O(logn)\n",
    "- makes a duplicate iterable to sort\n",
    "- returns iterable "
   ]
  },
  {
   "cell_type": "code",
   "execution_count": 6,
   "metadata": {},
   "outputs": [
    {
     "name": "stdout",
     "output_type": "stream",
     "text": [
      "[1, 2, 2, 2, 3, 3, 4, 5, 6]\n",
      "[6, 5, 4, 3, 3, 2, 2, 2, 1]\n"
     ]
    }
   ],
   "source": [
    "arr = [5,4,6,2,1,2,3,2,3]\n",
    "arr1 = [5,4,6,2,1,2,3,2,3]\n",
    "\n",
    "print(sorted(arr))\n",
    "print(sorted(arr1, reverse=True))"
   ]
  },
  {
   "attachments": {},
   "cell_type": "markdown",
   "metadata": {},
   "source": [
    "BINARY SEARCH"
   ]
  },
  {
   "cell_type": "code",
   "execution_count": 8,
   "metadata": {},
   "outputs": [],
   "source": [
    "def binary_search_recurssion(arr, ele, strt_pt=0, end_pt=len(arr)-1):\n",
    "    mid = (strt_pt+end_pt)//2\n",
    "    if arr[mid] == ele:\n",
    "        return mid\n",
    "    elif arr[mid]>ele:\n",
    "        return binary_search_recurssion(arr,ele,strt_pt,mid-1)\n",
    "    else:\n",
    "        return binary_search_recurssion(arr,ele,mid+1,end_pt)"
   ]
  },
  {
   "cell_type": "code",
   "execution_count": 20,
   "metadata": {},
   "outputs": [],
   "source": [
    "def binary_search_iteration(arr,ele,strt_pt=0,end_pt=len(arr)-1):\n",
    "    while strt_pt<=end_pt:   # remember the equal to sign\n",
    "        mid = (strt_pt+end_pt)//2\n",
    "        if arr[mid]==ele:\n",
    "            return mid\n",
    "        elif arr[mid]>ele:\n",
    "            end_pt = mid-1\n",
    "        else:\n",
    "            strt_pt=mid+1\n",
    "            \n",
    "    return -1"
   ]
  },
  {
   "cell_type": "code",
   "execution_count": 21,
   "metadata": {},
   "outputs": [
    {
     "name": "stdout",
     "output_type": "stream",
     "text": [
      "5\n",
      "5\n"
     ]
    }
   ],
   "source": [
    "arr = [2,4,6,7,8,10,11,14,15]\n",
    "print(binary_search_recurssion(arr,10))\n",
    "print(binary_search_iteration(arr,10))"
   ]
  },
  {
   "attachments": {},
   "cell_type": "markdown",
   "metadata": {},
   "source": [
    "author to-do\n",
    "\n",
    "1. merge sort\n",
    "2. binary search inbuilt/import function in python"
   ]
  },
  {
   "cell_type": "markdown",
   "metadata": {},
   "source": []
  }
 ],
 "metadata": {
  "kernelspec": {
   "display_name": "Python 3",
   "language": "python",
   "name": "python3"
  },
  "language_info": {
   "codemirror_mode": {
    "name": "ipython",
    "version": 3
   },
   "file_extension": ".py",
   "mimetype": "text/x-python",
   "name": "python",
   "nbconvert_exporter": "python",
   "pygments_lexer": "ipython3",
   "version": "3.9.13 (main, May 24 2022, 21:28:44) \n[Clang 13.0.0 (clang-1300.0.29.30)]"
  },
  "orig_nbformat": 4,
  "vscode": {
   "interpreter": {
    "hash": "949777d72b0d2535278d3dc13498b2535136f6dfe0678499012e853ee9abcab1"
   }
  }
 },
 "nbformat": 4,
 "nbformat_minor": 2
}
