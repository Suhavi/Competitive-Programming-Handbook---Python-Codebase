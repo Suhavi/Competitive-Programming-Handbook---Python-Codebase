{
 "cells": [
  {
   "cell_type": "markdown",
   "metadata": {},
   "source": [
    "STANDARD INPUT"
   ]
  },
  {
   "cell_type": "code",
   "execution_count": 6,
   "metadata": {},
   "outputs": [
    {
     "name": "stdout",
     "output_type": "stream",
     "text": [
      "everything at once\n",
      "<class 'str'>\n"
     ]
    }
   ],
   "source": [
    "anythingatall = input(\"Please say what's on your mind\")\n",
    "print(anythingatall)\n",
    "print(type(anythingatall))"
   ]
  },
  {
   "cell_type": "markdown",
   "metadata": {},
   "source": [
    "INBUILT NUMBERS"
   ]
  },
  {
   "cell_type": "code",
   "execution_count": 13,
   "metadata": {},
   "outputs": [
    {
     "name": "stdout",
     "output_type": "stream",
     "text": [
      "<class 'int'>\n",
      "<class 'float'>\n",
      "<class 'complex'>\n",
      "<class 'bool'>\n"
     ]
    }
   ],
   "source": [
    "a = 3\n",
    "b = 55.4\n",
    "c = 5 + 2j\n",
    "y = True  #subcategory of numeric types\n",
    "\n",
    "print((type(a)))\n",
    "print(type(b))\n",
    "print(type(c))\n",
    "print(type(y))"
   ]
  }
 ],
 "metadata": {
  "kernelspec": {
   "display_name": "base",
   "language": "python",
   "name": "python3"
  },
  "language_info": {
   "codemirror_mode": {
    "name": "ipython",
    "version": 3
   },
   "file_extension": ".py",
   "mimetype": "text/x-python",
   "name": "python",
   "nbconvert_exporter": "python",
   "pygments_lexer": "ipython3",
   "version": "3.9.12"
  }
 },
 "nbformat": 4,
 "nbformat_minor": 2
}
